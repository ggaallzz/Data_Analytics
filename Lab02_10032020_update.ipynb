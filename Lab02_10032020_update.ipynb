{
 "cells": [
  {
   "cell_type": "code",
   "execution_count": 31,
   "metadata": {},
   "outputs": [],
   "source": [
    "import numpy as np\n",
    "import pandas as pd\n",
    "import matplotlib.pyplot as plt\n",
    "import seaborn as sns"
   ]
  },
  {
   "cell_type": "markdown",
   "metadata": {},
   "source": [
    "1. Normal distribution"
   ]
  },
  {
   "cell_type": "code",
   "execution_count": 74,
   "metadata": {},
   "outputs": [],
   "source": [
    "#creating data\n",
    "data = np.random.normal(size=10000)\n",
    "data2 = np.random.normal(loc=2.,scale=5.,size=10000) #mu=2, sd=5\n",
    "data3 = np.random.normal(loc=5.,scale=2.,size=10000) #mu=5, sd=2"
   ]
  },
  {
   "cell_type": "code",
   "execution_count": 77,
   "metadata": {},
   "outputs": [
    {
     "name": "stdout",
     "output_type": "stream",
     "text": [
      "        Normal   Normal2   Normal3\n",
      "0    -0.123067  2.394451  6.150389\n",
      "1     0.843113  0.348495  3.816209\n",
      "2     0.636892  4.352058  5.885178\n",
      "3     1.618000 -2.778860  3.708334\n",
      "4    -0.587120 -6.895624  5.270057\n",
      "...        ...       ...       ...\n",
      "9995  0.261483  6.417001  2.499405\n",
      "9996  0.902488 -7.478206  5.786747\n",
      "9997 -1.043816 -5.583260  4.060954\n",
      "9998  0.763008  7.741481  6.896546\n",
      "9999 -0.422993  3.734126  1.037417\n",
      "\n",
      "[10000 rows x 3 columns]\n"
     ]
    }
   ],
   "source": [
    "#using dictionary\n",
    "datadict = {\"Normal\":data, \"Normal2\":data2, \"Normal3\":data3}\n",
    "dfdatadict = pd.DataFrame.from_dict(datadict)\n",
    "print(dfdatadict)"
   ]
  },
  {
   "cell_type": "code",
   "execution_count": 79,
   "metadata": {},
   "outputs": [
    {
     "name": "stdout",
     "output_type": "stream",
     "text": [
      "      variable     value\n",
      "0       Normal -0.123067\n",
      "1       Normal  0.843113\n",
      "2       Normal  0.636892\n",
      "3       Normal  1.618000\n",
      "4       Normal -0.587120\n",
      "...        ...       ...\n",
      "29995  Normal3  2.499405\n",
      "29996  Normal3  5.786747\n",
      "29997  Normal3  4.060954\n",
      "29998  Normal3  6.896546\n",
      "29999  Normal3  1.037417\n",
      "\n",
      "[30000 rows x 2 columns]\n"
     ]
    }
   ],
   "source": [
    "#reshape dataframe\n",
    "MeltDf = dfdatadict.melt()\n",
    "print(MeltDf)"
   ]
  },
  {
   "cell_type": "code",
   "execution_count": 85,
   "metadata": {},
   "outputs": [
    {
     "data": {
      "text/plain": [
       "<seaborn.axisgrid.FacetGrid at 0x1af7dd64fc8>"
      ]
     },
     "execution_count": 85,
     "metadata": {},
     "output_type": "execute_result"
    },
    {
     "data": {
      "image/png": "[encoded data removed]",
      "text/plain": [
       "<Figure size 648x216 with 3 Axes>"
      ]
     },
     "metadata": {
      "needs_background": "light"
     },
     "output_type": "display_data"
    }
   ],
   "source": [
    "plot=sns.FacetGrid(MeltDf, col=\"variable\", sharex=True, col_wrap=3)\n",
    "plot.map(plt.hist,\"value\",cumulative=False,bins=100)"
   ]
  },
  {
   "cell_type": "code",
   "execution_count": 88,
   "metadata": {},
   "outputs": [
    {
     "data": {
      "text/plain": [
       "<seaborn.axisgrid.FacetGrid at 0x1af7e757888>"
      ]
     },
     "execution_count": 88,
     "metadata": {},
     "output_type": "execute_result"
    },
    {
     "data": {
      "image/png": "[encoded data removed]",
      "text/plain": [
       "<Figure size 648x216 with 3 Axes>"
      ]
     },
     "metadata": {
      "needs_background": "light"
     },
     "output_type": "display_data"
    }
   ],
   "source": [
    "plot=sns.FacetGrid(MeltDf, col=\"variable\", sharex=True, col_wrap=3)\n",
    "plot.map(plt.hist,\"value\",cumulative=False,bins=10)"
   ]
  },
  {
   "cell_type": "code",
   "execution_count": 103,
   "metadata": {},
   "outputs": [
    {
     "data": {
      "text/plain": [
       "<seaborn.axisgrid.FacetGrid at 0x1af0102ac08>"
      ]
     },
     "execution_count": 103,
     "metadata": {},
     "output_type": "execute_result"
    },
    {
     "data": {
      "image/png": "[encoded data removed]",
      "text/plain": [
       "<Figure size 648x216 with 3 Axes>"
      ]
     },
     "metadata": {
      "needs_background": "light"
     },
     "output_type": "display_data"
    }
   ],
   "source": [
    "plot=sns.FacetGrid(MeltDf, col=\"variable\", sharex=True, col_wrap=3)\n",
    "plot.map(plt.hist,\"value\",cumulative=True,bins=100)"
   ]
  },
  {
   "cell_type": "markdown",
   "metadata": {},
   "source": [
    "If we see from the graphs above with cumulative option is more looks S-shape. And if we set number of bins, it will affected graph shape, more number to be set, more bar would shows in the graph."
   ]
  },
  {
   "cell_type": "code",
   "execution_count": 100,
   "metadata": {},
   "outputs": [
    {
     "data": {
      "text/plain": [
       "<seaborn.axisgrid.FacetGrid at 0x1af7f969748>"
      ]
     },
     "execution_count": 100,
     "metadata": {},
     "output_type": "execute_result"
    },
    {
     "data": {
      "image/png": "[encoded data removed]",
      "text/plain": [
       "<Figure size 648x216 with 3 Axes>"
      ]
     },
     "metadata": {
      "needs_background": "light"
     },
     "output_type": "display_data"
    }
   ],
   "source": [
    "#normal distribution using seaborn for more informative\n",
    "plot=sns.FacetGrid(MeltDf, col=\"variable\", sharex=True, col_wrap=3)\n",
    "plot.map(plt.hist,\"value\",bins=100,color='skyblue')\n",
    "plot.set(xlabel='Normal Distribution', ylabel='Frequency')"
   ]
  },
  {
   "cell_type": "markdown",
   "metadata": {},
   "source": [
    "The graphs above more informative because has X and Y label."
   ]
  },
  {
   "cell_type": "markdown",
   "metadata": {},
   "source": [
    "2. Transform samples from normal distribution with inverse logit."
   ]
  },
  {
   "cell_type": "code",
   "execution_count": 109,
   "metadata": {},
   "outputs": [
    {
     "name": "stdout",
     "output_type": "stream",
     "text": [
      "      variable     value\n",
      "0       Normal  0.469272\n",
      "1       Normal  0.699120\n",
      "2       Normal  0.654051\n",
      "3       Normal  0.834519\n",
      "4       Normal  0.357296\n",
      "...        ...       ...\n",
      "29995  Normal3  0.924100\n",
      "29996  Normal3  0.996941\n",
      "29997  Normal3  0.983059\n",
      "29998  Normal3  0.998990\n",
      "29999  Normal3  0.738351\n",
      "\n",
      "[30000 rows x 2 columns]\n"
     ]
    }
   ],
   "source": [
    "ExpitData=expit(dfdatadict)\n",
    "MeltExpit=ExpitData.melt() #reshape the data unpivots a DataFrame from wide format to long format\n",
    "print(MeltExpit)"
   ]
  },
  {
   "cell_type": "code",
   "execution_count": 112,
   "metadata": {},
   "outputs": [
    {
     "data": {
      "text/plain": [
       "<seaborn.axisgrid.FacetGrid at 0x1af01944f48>"
      ]
     },
     "execution_count": 112,
     "metadata": {},
     "output_type": "execute_result"
    },
    {
     "data": {
      "image/png": "[encoded data removed]",
      "text/plain": [
       "<Figure size 648x216 with 3 Axes>"
      ]
     },
     "metadata": {
      "needs_background": "light"
     },
     "output_type": "display_data"
    },
    {
     "data": {
      "image/png": "[encoded data removed]",
      "text/plain": [
       "<Figure size 648x216 with 3 Axes>"
      ]
     },
     "metadata": {
      "needs_background": "light"
     },
     "output_type": "display_data"
    }
   ],
   "source": [
    "#without cumulative\n",
    "plot1=sns.FacetGrid(MeltExpit, col=\"variable\", sharex=True)\n",
    "plot1.map(plt.hist, \"value\", cumulative=False, bins=50)\n",
    "#with cumulative\n",
    "plot2=sns.FacetGrid(MeltExpit, col=\"variable\", sharex=True)\n",
    "plot2.map(plt.hist, \"value\", cumulative=True, bins=100)"
   ]
  },
  {
   "cell_type": "markdown",
   "metadata": {},
   "source": [
    "Graphs above show normal distribution with inverse logit, where the number mean and sd affected to the graph. If the number of mean set larger than sd, it will shows s-shape on histogram with cumulative."
   ]
  },
  {
   "cell_type": "markdown",
   "metadata": {},
   "source": [
    "3. Poisson distribution."
   ]
  },
  {
   "cell_type": "code",
   "execution_count": 115,
   "metadata": {},
   "outputs": [
    {
     "name": "stdout",
     "output_type": "stream",
     "text": [
      "       variable  value\n",
      "0      Poisson1      2\n",
      "1      Poisson1      1\n",
      "2      Poisson1      0\n",
      "3      Poisson1      0\n",
      "4      Poisson1      1\n",
      "...         ...    ...\n",
      "29995  Poisson3     19\n",
      "29996  Poisson3     22\n",
      "29997  Poisson3     26\n",
      "29998  Poisson3     21\n",
      "29999  Poisson3     28\n",
      "\n",
      "[30000 rows x 2 columns]\n"
     ]
    }
   ],
   "source": [
    "#prepare data random poisson\n",
    "poissondata1 = np.random.poisson(1, 10000) #lamda, size\n",
    "poissondata2 = np.random.poisson(10, 10000)\n",
    "poissondata3 = np.random.poisson(20, 10000)\n",
    "#create dictionary data\n",
    "poissondict = {\"Poisson1\": poissondata1, \"Poisson2\": poissondata2, \"Poisson3\": poissondata3}\n",
    "#create dataframe\n",
    "poissondf = pd.DataFrame.from_dict(poissondict)\n",
    "#reshape dataframe\n",
    "meltpoissondf=poissondf.melt()\n",
    "print(meltpoissondf)"
   ]
  },
  {
   "cell_type": "code",
   "execution_count": 125,
   "metadata": {},
   "outputs": [
    {
     "data": {
      "text/plain": [
       "<seaborn.axisgrid.FacetGrid at 0x1af069d1888>"
      ]
     },
     "execution_count": 125,
     "metadata": {},
     "output_type": "execute_result"
    },
    {
     "data": {
      "image/png": "[encoded data removed]",
      "text/plain": [
       "<Figure size 648x216 with 3 Axes>"
      ]
     },
     "metadata": {
      "needs_background": "light"
     },
     "output_type": "display_data"
    },
    {
     "data": {
      "image/png": "[encoded data removed]",
      "text/plain": [
       "<Figure size 648x216 with 3 Axes>"
      ]
     },
     "metadata": {
      "needs_background": "light"
     },
     "output_type": "display_data"
    }
   ],
   "source": [
    "#without cumulative\n",
    "plot1=sns.FacetGrid(meltpoissondf, col=\"variable\", sharex=True)\n",
    "plot1.map(plt.hist, \"value\", cumulative=False, bins=100)\n",
    "#with cumulative\n",
    "plot2=sns.FacetGrid(meltpoissondf, col=\"variable\", sharex=True)\n",
    "plot2.map(plt.hist, \"value\", cumulative=True, bins=100)"
   ]
  },
  {
   "cell_type": "markdown",
   "metadata": {},
   "source": [
    "Graphs above show the number of lamda and size to be set can affect the shape of graphs. Lamda is to show about the total number of events (k) divided by the number of units (n) in the data (λ = k/n)."
   ]
  },
  {
   "cell_type": "markdown",
   "metadata": {},
   "source": [
    "4. Beta distribution"
   ]
  },
  {
   "cell_type": "code",
   "execution_count": null,
   "metadata": {},
   "outputs": [],
   "source": [
    "from scipy.stats import beta\n",
    "a, b = 2.30984964515, 0.62687954301\n",
    "r = beta.rvs(a, b, size=10000)\n",
    "plt.hist(r, density=True)\n",
    "plt.show()\n",
    "#location dispersion parametrization?\n",
    "#mean-population size?"
   ]
  },
  {
   "cell_type": "code",
   "execution_count": 126,
   "metadata": {},
   "outputs": [
    {
     "name": "stdout",
     "output_type": "stream",
     "text": [
      "      variable     value\n",
      "0        Beta1  0.831101\n",
      "1        Beta1  0.218418\n",
      "2        Beta1  0.207202\n",
      "3        Beta1  0.724878\n",
      "4        Beta1  0.723467\n",
      "...        ...       ...\n",
      "29995    Beta3  0.501967\n",
      "29996    Beta3  0.598228\n",
      "29997    Beta3  0.503616\n",
      "29998    Beta3  0.507258\n",
      "29999    Beta3  0.490333\n",
      "\n",
      "[30000 rows x 2 columns]\n"
     ]
    }
   ],
   "source": [
    "#prepare data beta distribution, set alpha and beta\n",
    "betadata1 = np.random.beta(0.5, 0.5, 10000)\n",
    "betadata2 = np.random.beta(20, 100, 10000)\n",
    "betadata3 = np.random.beta(50, 50, 10000)\n",
    "#create dictionary\n",
    "betadict = {\"Beta1\":betadata1, \"Beta2\":betadata2, \"Beta3\":betadata3}\n",
    "#create dataframe \n",
    "betadf = pd.DataFrame.from_dict(betadict)\n",
    "#reshape dataframe\n",
    "meltbeta = betadf.melt()\n",
    "print (meltbeta)"
   ]
  },
  {
   "cell_type": "code",
   "execution_count": 127,
   "metadata": {},
   "outputs": [
    {
     "data": {
      "text/plain": [
       "<seaborn.axisgrid.FacetGrid at 0x1af07789608>"
      ]
     },
     "execution_count": 127,
     "metadata": {},
     "output_type": "execute_result"
    },
    {
     "data": {
      "image/png": "[encoded data removed]",
      "text/plain": [
       "<Figure size 648x216 with 3 Axes>"
      ]
     },
     "metadata": {
      "needs_background": "light"
     },
     "output_type": "display_data"
    },
    {
     "data": {
      "image/png": "[encoded data removed]",
      "text/plain": [
       "<Figure size 648x216 with 3 Axes>"
      ]
     },
     "metadata": {
      "needs_background": "light"
     },
     "output_type": "display_data"
    }
   ],
   "source": [
    "#without cumulative\n",
    "plot1=sns.FacetGrid(meltbeta, col=\"variable\", sharex=False, sharey=False)\n",
    "plot1.map(plt.hist, \"value\", cumulative=False, bins=50)\n",
    "#with cumulative\n",
    "plot2=sns.FacetGrid(meltbeta, col=\"variable\", sharex=False, sharey=False)\n",
    "plot2.map(plt.hist, \"value\", cumulative=True, bins=100)"
   ]
  },
  {
   "cell_type": "markdown",
   "metadata": {},
   "source": [
    "Graphs above show behavior of random variables limited to intervals of finite length, which denoted by α and β, which also appear as exponents of the random variable and control the shape of the distribution."
   ]
  },
  {
   "cell_type": "markdown",
   "metadata": {},
   "source": [
    "5. Log-normal distribution"
   ]
  },
  {
   "cell_type": "code",
   "execution_count": 119,
   "metadata": {},
   "outputs": [
    {
     "name": "stdout",
     "output_type": "stream",
     "text": [
      "      variable     value\n",
      "0          ln1  0.460157\n",
      "1          ln1  1.374803\n",
      "2          ln1  0.287816\n",
      "3          ln1  0.391027\n",
      "4          ln1  1.262926\n",
      "...        ...       ...\n",
      "39995      ln4  1.304706\n",
      "39996      ln4  4.450122\n",
      "39997      ln4  2.992819\n",
      "39998      ln4  3.518084\n",
      "39999      ln4  3.131718\n",
      "\n",
      "[40000 rows x 2 columns]\n"
     ]
    }
   ],
   "source": [
    "#prepare data\n",
    "lognormal1 = np.random.lognormal(size=10000)\n",
    "lognormal2 = np.random.lognormal(2.5,0.5,10000)\n",
    "lognormal3 = np.random.lognormal(1,10,10000)\n",
    "lognormal4 = np.random.lognormal(1,1,10000)\n",
    "#create dictionary\n",
    "lognormaldict = {\"ln1\":lognormal1, \"ln2\":lognormal2, \"ln3\":lognormal3, \"ln4\":lognormal4}\n",
    "#create dataframe\n",
    "lognormaldf = pd.DataFrame(lognormaldict)\n",
    "#reshape df\n",
    "lognormalmelt = lognormaldf.melt()\n",
    "print(lognormalmelt)"
   ]
  },
  {
   "cell_type": "code",
   "execution_count": 124,
   "metadata": {},
   "outputs": [
    {
     "data": {
      "text/plain": [
       "<seaborn.axisgrid.FacetGrid at 0x1af06283648>"
      ]
     },
     "execution_count": 124,
     "metadata": {},
     "output_type": "execute_result"
    },
    {
     "data": {
      "image/png": "[encoded data removed]",
      "text/plain": [
       "<Figure size 864x216 with 4 Axes>"
      ]
     },
     "metadata": {
      "needs_background": "light"
     },
     "output_type": "display_data"
    },
    {
     "data": {
      "image/png": "[encoded data removed]",
      "text/plain": [
       "<Figure size 864x216 with 4 Axes>"
      ]
     },
     "metadata": {
      "needs_background": "light"
     },
     "output_type": "display_data"
    }
   ],
   "source": [
    "#without cumulative\n",
    "plot1=sns.FacetGrid(lognormalmelt, col=\"variable\", sharex=False, sharey=False)\n",
    "plot1.map(plt.hist, \"value\", cumulative=False, bins=50)\n",
    "#with cumulative\n",
    "plot2=sns.FacetGrid(lognormalmelt, col=\"variable\", sharex=False, sharey=False)\n",
    "plot2.map(plt.hist, \"value\", cumulative=True, bins=100)"
   ]
  },
  {
   "cell_type": "markdown",
   "metadata": {},
   "source": [
    "Observe how mean and variance of normal distribution are propagating through transformation :\n",
    "A random variable is lognormally distributed if its logarithm is normally distributed. Skewed distributions with low mean values, large variance, and all-positive values often fit this type of distribution. And the values must be positive as log(x) exists only for positive values of x."
   ]
  }
 ],
 "metadata": {
  "kernelspec": {
   "display_name": "Python (myenv)",
   "language": "python",
   "name": "myenv"
  },
  "language_info": {
   "codemirror_mode": {
    "name": "ipython",
    "version": 3
   },
   "file_extension": ".py",
   "mimetype": "text/x-python",
   "name": "python",
   "nbconvert_exporter": "python",
   "pygments_lexer": "ipython3",
   "version": "3.7.4"
  }
 },
 "nbformat": 4,
 "nbformat_minor": 2
}
